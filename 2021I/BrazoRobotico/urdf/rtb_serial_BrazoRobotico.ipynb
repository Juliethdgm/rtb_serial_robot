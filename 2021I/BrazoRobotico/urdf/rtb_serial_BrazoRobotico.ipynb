{
 "cells": [
  {
   "cell_type": "code",
   "execution_count": 1,
   "metadata": {},
   "outputs": [
    {
     "ename": "ModuleNotFoundError",
     "evalue": "No module named 'BrazoRobotico'",
     "output_type": "error",
     "traceback": [
      "\u001b[1;31m---------------------------------------------------------------------------\u001b[0m",
      "\u001b[1;31mModuleNotFoundError\u001b[0m                       Traceback (most recent call last)",
      "\u001b[1;32m<ipython-input-1-2dec8805749f>\u001b[0m in \u001b[0;36m<module>\u001b[1;34m\u001b[0m\n\u001b[0;32m      9\u001b[0m \u001b[1;32mimport\u001b[0m \u001b[0mnumpy\u001b[0m \u001b[1;32mas\u001b[0m \u001b[0mnp\u001b[0m\u001b[1;33m\u001b[0m\u001b[1;33m\u001b[0m\u001b[0m\n\u001b[0;32m     10\u001b[0m \u001b[1;32mimport\u001b[0m \u001b[0mroboticstoolbox\u001b[0m \u001b[1;32mas\u001b[0m \u001b[0mrtb\u001b[0m\u001b[1;33m\u001b[0m\u001b[1;33m\u001b[0m\u001b[0m\n\u001b[1;32m---> 11\u001b[1;33m \u001b[1;32mfrom\u001b[0m \u001b[0mBrazoRobotico\u001b[0m \u001b[1;32mimport\u001b[0m \u001b[0mBrazoRobotico\u001b[0m\u001b[1;33m\u001b[0m\u001b[1;33m\u001b[0m\u001b[0m\n\u001b[0m\u001b[0;32m     12\u001b[0m \u001b[1;32mfrom\u001b[0m \u001b[0mSwift_serial\u001b[0m \u001b[1;32mimport\u001b[0m \u001b[0mSwift_serial\u001b[0m\u001b[1;33m\u001b[0m\u001b[1;33m\u001b[0m\u001b[0m\n\u001b[0;32m     13\u001b[0m \u001b[1;32mfrom\u001b[0m \u001b[0mmath\u001b[0m \u001b[1;32mimport\u001b[0m \u001b[0mpi\u001b[0m\u001b[1;33m\u001b[0m\u001b[1;33m\u001b[0m\u001b[0m\n",
      "\u001b[1;31mModuleNotFoundError\u001b[0m: No module named 'BrazoRobotico'"
     ]
    }
   ],
   "source": [
    "\n",
    "\"\"\"\n",
    "This is the example to execute the BrazoRobotico\n",
    "@author olmerg\n",
    "\"\"\"\n",
    "import sys  \n",
    "sys.path.append('BrazoRobotico')\n",
    "\n",
    "sys.path.append( '../../Swift_serial')\n",
    "import numpy as np\n",
    "import roboticstoolbox as rtb\n",
    "from BrazoRobotico import BrazoRobotico\n",
    "from Swift_serial import Swift_serial\n",
    "from math import pi\n",
    "\n",
    "if __name__ == '__main__':  \n",
    "\n",
    "    env = Swift_serial('COM6',115200)\n",
    "    \n",
    "    robot=BrazoRobotico()\n",
    "    print(robot)\n",
    "\n",
    "    env.launch()\n",
    "    env.add(robot)\n",
    "    \n",
    "    p0=np.array([0, 0, 0, 0, 0])  \n",
    "    p1=np.array([pi/2, 0, 0, 0, 0])\n",
    "    p2=np.array([0, pi/2, pi/2,-pi/2, 0])\n",
    "    p3=np.array([pi/2, pi/2, pi/4, -pi/2, 0])\n",
    "    p4=np.array([pi/2, 0, pi/4, (2*pi/9), 0])           \n",
    "\n",
    "    q0 = rtb.tools.trajectory.jtraj(p0,p1,80)\n",
    "    q1 = rtb.tools.trajectory.jtraj(p1,p2,80)\n",
    "    q2 = rtb.tools.trajectory.jtraj(p2,p3,80)\n",
    "    q3 = rtb.tools.trajectory.jtraj(p3,p4,80) \n",
    "    \n",
    "\n",
    "for i in [0, 1, 2]:\n",
    "    for q in q0.y:\n",
    "      \n",
    "         robot.q=q\n",
    "         env.step(0.01)\n",
    "    for q in q1.y:\n",
    "     \n",
    "         robot.q=q\n",
    "         env.step(0.01)          \n",
    "    for q in q2.y:\n",
    "        \n",
    "         robot.q=q\n",
    "         env.step(0.01) \n",
    "    for q in q3.y:\n",
    "      \n",
    "         robot.q=q\n",
    "         env.step(0.01) \n",
    "\n",
    "    env.reset()\n",
    " "
   ]
  },
  {
   "cell_type": "code",
   "execution_count": null,
   "metadata": {},
   "outputs": [],
   "source": []
  },
  {
   "cell_type": "code",
   "execution_count": null,
   "metadata": {},
   "outputs": [],
   "source": []
  }
 ],
 "metadata": {
  "kernelspec": {
   "display_name": "Python 3",
   "language": "python",
   "name": "python3"
  },
  "language_info": {
   "codemirror_mode": {
    "name": "ipython",
    "version": 3
   },
   "file_extension": ".py",
   "mimetype": "text/x-python",
   "name": "python",
   "nbconvert_exporter": "python",
   "pygments_lexer": "ipython3",
   "version": "3.9.1"
  }
 },
 "nbformat": 4,
 "nbformat_minor": 4
}
