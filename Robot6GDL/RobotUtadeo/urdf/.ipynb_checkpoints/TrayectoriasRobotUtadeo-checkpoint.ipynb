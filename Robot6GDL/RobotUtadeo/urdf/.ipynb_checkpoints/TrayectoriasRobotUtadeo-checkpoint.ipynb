{
 "cells": [
  {
   "cell_type": "code",
   "execution_count": 2,
   "metadata": {},
   "outputs": [],
   "source": [
    "from roboticstoolbox import DHRobot\n",
    "import time\n",
    "import roboticstoolbox as rtb\n",
    "import numpy as np\n",
    "from math import pi\n",
    "import matplotlib.pyplot as plt\n",
    "from spatialmath import *     "
   ]
  },
  {
   "cell_type": "code",
   "execution_count": 4,
   "metadata": {},
   "outputs": [],
   "source": [
    "from RobotUtadeo import RobotUtadeo\n",
    "Robot=RobotUtadeo()"
   ]
  },
  {
   "cell_type": "code",
   "execution_count": 5,
   "metadata": {},
   "outputs": [
    {
     "name": "stdout",
     "output_type": "stream",
     "text": [
      "┌───┬───────────┬───────────┬───────────────┬────────────────────────────────┐\n",
      "│id │   link    │  parent   │     joint     │              ETS               │\n",
      "├───┼───────────┼───────────┼───────────────┼────────────────────────────────┤\n",
      "│ 0\u001b[0m │     \u001b[38;5;4mworld\u001b[0m │         -\u001b[0m │              \u001b[0m │ \u001b[0m                               │\n",
      "│ 1\u001b[0m │ \u001b[38;5;4mbase_link\u001b[0m │     world\u001b[0m │          Join\u001b[0m │ \u001b[0m                               │\n",
      "│ 2\u001b[0m │    link_1\u001b[0m │ base_link\u001b[0m │       joint_1\u001b[0m │ tz(0.75) * Rz(q0)\u001b[0m              │\n",
      "│ 3\u001b[0m │    link_2\u001b[0m │    link_1\u001b[0m │       joint_2\u001b[0m │ tz(0.55) * Rz(89.95°) * Ry(q1)\u001b[0m │\n",
      "│ 4\u001b[0m │    link_3\u001b[0m │    link_2\u001b[0m │       joint_3\u001b[0m │ tz(1.2) * Ry(q2)\u001b[0m               │\n",
      "│ 5\u001b[0m │    link_4\u001b[0m │    link_3\u001b[0m │       joint_4\u001b[0m │ tz(1.0) * Ry(q3)\u001b[0m               │\n",
      "│ 6\u001b[0m │  @Gripper\u001b[0m │    link_4\u001b[0m │ joint_Gripper\u001b[0m │ tz(0.7) * Rz(89.95°) * Rz(q4)\u001b[0m  │\n",
      "└───┴───────────┴───────────┴───────────────┴────────────────────────────────┘\n",
      "\n",
      "┌─────┬─────┬──────┬──────┬──────┬──────┐\n",
      "│name │ q0  │ q1   │ q2   │ q3   │ q4   │\n",
      "├─────┼─────┼──────┼──────┼──────┼──────┤\n",
      "│  qz\u001b[0m │  0°\u001b[0m │  0°\u001b[0m  │  0°\u001b[0m  │  0°\u001b[0m  │  0°\u001b[0m  │\n",
      "│  qr\u001b[0m │  0°\u001b[0m │  90°\u001b[0m │  90°\u001b[0m │  90°\u001b[0m │  90°\u001b[0m │\n",
      "└─────┴─────┴──────┴──────┴──────┴──────┘\n",
      "\n"
     ]
    }
   ],
   "source": [
    "print(Robot)"
   ]
  },
  {
   "cell_type": "code",
   "execution_count": 6,
   "metadata": {},
   "outputs": [
    {
     "name": "stdout",
     "output_type": "stream",
     "text": [
      "[ELink(world, ets=), ELink(base_link, ets=, parent=world), ELink(link_1, ets=tz(0.75) * Rz(q), parent=base_link, qlim=[0.0, 62.8319]), ELink(link_2, ets=tz(0.55) * Rz(89.95°) * Ry(q), parent=link_1, qlim=[-1.57, 1.57]), ELink(link_3, ets=tz(1.2) * Ry(q), parent=link_2, qlim=[-1.57, 1.57]), ELink(link_4, ets=tz(1.0) * Ry(q), parent=link_3, qlim=[-1.57, 1.57]), ELink(Gripper, ets=tz(0.7) * Rz(89.95°) * Rz(q), parent=link_4, qlim=[-1.57, 1.57])]\n"
     ]
    }
   ],
   "source": [
    "print(Robot.links)"
   ]
  },
  {
   "cell_type": "code",
   "execution_count": 9,
   "metadata": {},
   "outputs": [
    {
     "data": {
      "text/plain": [
       "<roboticstoolbox.backends.Swift.Swift.Swift at 0x1d5800e5dc0>"
      ]
     },
     "execution_count": 9,
     "metadata": {},
     "output_type": "execute_result"
    }
   ],
   "source": [
    "Robot.plot(Robot.qz,backend='swift',block=False)"
   ]
  },
  {
   "cell_type": "code",
   "execution_count": null,
   "metadata": {},
   "outputs": [],
   "source": []
  }
 ],
 "metadata": {
  "kernelspec": {
   "display_name": "Python 3",
   "language": "python",
   "name": "python3"
  },
  "language_info": {
   "codemirror_mode": {
    "name": "ipython",
    "version": 3
   },
   "file_extension": ".py",
   "mimetype": "text/x-python",
   "name": "python",
   "nbconvert_exporter": "python",
   "pygments_lexer": "ipython3",
   "version": "3.8.5"
  }
 },
 "nbformat": 4,
 "nbformat_minor": 4
}
