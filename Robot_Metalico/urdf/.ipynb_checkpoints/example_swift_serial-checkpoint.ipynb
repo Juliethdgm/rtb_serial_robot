{
 "cells": [
  {
   "cell_type": "code",
   "execution_count": 2,
   "metadata": {},
   "outputs": [
    {
     "ename": "AttributeError",
     "evalue": "module 'roboticstoolbox.backends' has no attribute 'Swift'",
     "output_type": "error",
     "traceback": [
      "\u001b[1;31m---------------------------------------------------------------------------\u001b[0m",
      "\u001b[1;31mAttributeError\u001b[0m                            Traceback (most recent call last)",
      "\u001b[1;32m<ipython-input-2-f658dc44ba95>\u001b[0m in \u001b[0;36m<module>\u001b[1;34m\u001b[0m\n\u001b[0;32m     12\u001b[0m \u001b[1;32mimport\u001b[0m \u001b[0mroboticstoolbox\u001b[0m \u001b[1;32mas\u001b[0m \u001b[0mrtb\u001b[0m\u001b[1;33m\u001b[0m\u001b[1;33m\u001b[0m\u001b[0m\n\u001b[0;32m     13\u001b[0m \u001b[1;32mfrom\u001b[0m \u001b[0mRobotMetalico\u001b[0m \u001b[1;32mimport\u001b[0m \u001b[0mRobotMetalico\u001b[0m\u001b[1;33m\u001b[0m\u001b[1;33m\u001b[0m\u001b[0m\n\u001b[1;32m---> 14\u001b[1;33m \u001b[1;32mfrom\u001b[0m \u001b[0mSwift_serial\u001b[0m \u001b[1;32mimport\u001b[0m \u001b[0mSwift_serial\u001b[0m\u001b[1;33m\u001b[0m\u001b[1;33m\u001b[0m\u001b[0m\n\u001b[0m\u001b[0;32m     15\u001b[0m \u001b[1;32mfrom\u001b[0m \u001b[0mmath\u001b[0m \u001b[1;32mimport\u001b[0m \u001b[0mpi\u001b[0m\u001b[1;33m\u001b[0m\u001b[1;33m\u001b[0m\u001b[0m\n\u001b[0;32m     16\u001b[0m \u001b[1;33m\u001b[0m\u001b[0m\n",
      "\u001b[1;32m~\\OneDrive\\Escritorio\\Repositorio\\rtb_serial_robot\\Swift_serial\\Swift_serial.py\u001b[0m in \u001b[0;36m<module>\u001b[1;34m\u001b[0m\n\u001b[0;32m     15\u001b[0m \u001b[1;33m\u001b[0m\u001b[0m\n\u001b[0;32m     16\u001b[0m \u001b[1;33m\u001b[0m\u001b[0m\n\u001b[1;32m---> 17\u001b[1;33m \u001b[1;32mclass\u001b[0m \u001b[0mSwift_serial\u001b[0m\u001b[1;33m(\u001b[0m\u001b[0mrtb\u001b[0m\u001b[1;33m.\u001b[0m\u001b[0mbackends\u001b[0m\u001b[1;33m.\u001b[0m\u001b[0mSwift\u001b[0m\u001b[1;33m)\u001b[0m\u001b[1;33m:\u001b[0m  \u001b[1;31m# pragma nocover\u001b[0m\u001b[1;33m\u001b[0m\u001b[1;33m\u001b[0m\u001b[0m\n\u001b[0m\u001b[0;32m     18\u001b[0m     \"\"\"\n\u001b[0;32m     19\u001b[0m     \u001b[0mGraphical\u001b[0m \u001b[1;32mand\u001b[0m \u001b[0mHardware\u001b[0m \u001b[0mbackend\u001b[0m \u001b[0musing\u001b[0m \u001b[0mSerial_Swift\u001b[0m\u001b[1;33m\u001b[0m\u001b[1;33m\u001b[0m\u001b[0m\n",
      "\u001b[1;31mAttributeError\u001b[0m: module 'roboticstoolbox.backends' has no attribute 'Swift'"
     ]
    }
   ],
   "source": [
    "# -*- coding: utf-8 -*-\n",
    "\"\"\"\n",
    "This is the example to execute the Robot_Metalico\n",
    "@author olmerg\n",
    "\"\"\"\n",
    "import sys  \n",
    "sys.path.append( 'Robot_Metalico')\n",
    "\n",
    "\n",
    "sys.path.append( '../../Swift_serial')\n",
    "import numpy as np\n",
    "import roboticstoolbox as rtb\n",
    "from RobotMetalico import RobotMetalico\n",
    "from Swift_serial import Swift_serial\n",
    "from math import pi\n",
    "\n",
    "if __name__ == '__main__':   # pragma nocover\n",
    "\n",
    "    env = Swift_serial('COM3',115200)\n",
    "    \n",
    "    #posicion inicial (aqui cambiar por el robot realizado)\n",
    "    robot=RobotMetalico()\n",
    "    print(robot)\n",
    "    print(robot.to_dict)\n",
    "    # the robot should start in home \n",
    "    env.launch()\n",
    "    env.add(robot)           \n",
    "    p1 = rtb.tools.trajectory.jtraj(np.array([0, 0, 0, 0, 0]),[pi/2, 0, 0, 0, 0],20)\n",
    "    \n",
    "for i in [0, 1, 2]:\n",
    "    for q in q0.y:\n",
    "         #print(q)\n",
    "         robot.q=q\n",
    "         env.step(0.01)\n",
    "\n",
    "    # return to home\n",
    "    env.reset()\n",
    " "
   ]
  },
  {
   "cell_type": "code",
   "execution_count": null,
   "metadata": {},
   "outputs": [],
   "source": []
  }
 ],
 "metadata": {
  "kernelspec": {
   "display_name": "Python 3",
   "language": "python",
   "name": "python3"
  },
  "language_info": {
   "codemirror_mode": {
    "name": "ipython",
    "version": 3
   },
   "file_extension": ".py",
   "mimetype": "text/x-python",
   "name": "python",
   "nbconvert_exporter": "python",
   "pygments_lexer": "ipython3",
   "version": "3.8.8"
  }
 },
 "nbformat": 4,
 "nbformat_minor": 4
}
