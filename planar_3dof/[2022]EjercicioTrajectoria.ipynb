{
 "cells": [
  {
   "cell_type": "code",
   "execution_count": 3,
   "metadata": {},
   "outputs": [],
   "source": [
    "from roboticstoolbox import DHRobot,RevoluteDH,PrismaticDH\n",
    "import roboticstoolbox as rtb\n",
    "import numpy as np\n",
    "from   math import pi\n",
    "import matplotlib.pyplot as plt\n",
    "from  spatialmath import *"
   ]
  },
  {
   "cell_type": "code",
   "execution_count": 4,
   "metadata": {},
   "outputs": [
    {
     "name": "stdout",
     "output_type": "stream",
     "text": [
      "ERobot: planar_3dof (by Utadeo), 3 joints (RRR), dynamics, geometry, collision\n",
      "┌───┬───────────┬───────┬───────────┬────────────────────────────────────────────┐\n",
      "│id │   link    │ joint │  parent   │                    ETS                     │\n",
      "├───┼───────────┼───────┼───────────┼────────────────────────────────────────────┤\n",
      "│ 1 │ world     │       │ BASE      │ {world} = {BASE}                           │\n",
      "│ 2 │ base_link │       │ world     │ {base_link} = {world}                      │\n",
      "│ 3 │ link_1    │     0 │ base_link │ {link_1} = {base_link} ⊕ tz(0.05) ⊕ Rz(q0) │\n",
      "│ 4 │ link_2    │     1 │ link_1    │ {link_2} = {link_1} ⊕ tx(0.5) ⊕ Rz(q1)     │\n",
      "│ 5 │ gripper   │     2 │ link_2    │ {gripper} = {link_2} ⊕ tx(0.5) ⊕ Rz(q2)    │\n",
      "│ 6 │ @end      │       │ gripper   │ {end} = {gripper} ⊕ tx(0.18)               │\n",
      "└───┴───────────┴───────┴───────────┴────────────────────────────────────────────┘\n",
      "\n",
      "┌─────┬─────┬──────┬───────┐\n",
      "│name │ q0  │ q1   │ q2    │\n",
      "├─────┼─────┼──────┼───────┤\n",
      "│  qz │  0° │  0°  │  0°   │\n",
      "│  qr │  0° │  90° │ -90°  │\n",
      "│  qs │  0° │  0°  │ -90°  │\n",
      "│  qn │  0° │  45° │  180° │\n",
      "└─────┴─────┴──────┴───────┘\n",
      "\n",
      "[ELink(world, ets=, m=0, Jm=0, B=0, G=0), ELink(base_link, ets=, parent=world, m=0, Jm=0, B=0, G=0), ELink(link_1, ets=tz(0.05) ⊕ Rz(q), parent=base_link, qlim=[-1.57, 1.57], m=1, r=[0, 0, 0.25], I=[1, 1, 1, 0, 0, 0], Jm=0, B=0, G=0), ELink(link_2, ets=tx(0.5) ⊕ Rz(q), parent=link_1, qlim=[-1.57, 1.57], m=1, r=[0, 0, 0.25], I=[1, 1, 1, 0, 0, 0], Jm=0, B=0, G=0), ELink(gripper, ets=tx(0.5) ⊕ Rz(q), parent=link_2, qlim=[-1.57, 1.57], m=1, r=[0, 0, 0.1], I=[1, 1, 1, 0, 0, 0], Jm=0, B=0, G=0), ELink(end, ets=tx(0.18), parent=gripper, m=0, Jm=0, B=0, G=0)]\n"
     ]
    }
   ],
   "source": [
    "from Planar3DOF import Planar3DOF\n",
    "robot=Planar3DOF()\n",
    "print(robot)\n",
    "print(robot.links)"
   ]
  },
  {
   "cell_type": "code",
   "execution_count": 5,
   "metadata": {},
   "outputs": [
    {
     "name": "stdout",
     "output_type": "stream",
     "text": [
      "[ 0.          0.         -1.57079633]\n"
     ]
    },
    {
     "data": {
      "text/plain": [
       "Swift backend, t = 0.05, scene:\n",
       "  planar_3dof"
      ]
     },
     "execution_count": 5,
     "metadata": {},
     "output_type": "execute_result"
    }
   ],
   "source": [
    "print(robot.qs)\n",
    "robot.plot(robot.qs)"
   ]
  },
  {
   "cell_type": "markdown",
   "metadata": {},
   "source": [
    "## Fordward and inverse kinematics\n"
   ]
  },
  {
   "cell_type": "code",
   "execution_count": 6,
   "metadata": {},
   "outputs": [
    {
     "name": "stdout",
     "output_type": "stream",
     "text": [
      "[ 0.          0.         -1.57079633]\n"
     ]
    },
    {
     "data": {
      "text/plain": [
       "   0         1         0         1         \n",
       "  -1         0         0        -0.18      \n",
       "   0         0         1         0.05      \n",
       "   0         0         0         1         \n"
      ]
     },
     "execution_count": 6,
     "metadata": {},
     "output_type": "execute_result"
    }
   ],
   "source": [
    "print(robot.qs)\n",
    "T = robot.fkine(robot.qs)\n",
    "T\n"
   ]
  },
  {
   "cell_type": "code",
   "execution_count": 7,
   "metadata": {},
   "outputs": [
    {
     "name": "stdout",
     "output_type": "stream",
     "text": [
      "IKsolution(q=array([ 0.03903782, -0.07807886, -1.52752226]), success=True, reason=None, iterations=8, residual=6.538980526491075e-12)\n",
      "   0.004233  1         0         1         \n",
      "  -1         0.004233  0        -0.18      \n",
      "   0         0         1         0.05      \n",
      "   0         0         0         1         \n",
      "\n"
     ]
    }
   ],
   "source": [
    "sol2=robot.ikine_LM(T,mask=[1,1,1,0,0,0])\n",
    "print(sol2)\n",
    "if sol2.success:\n",
    "    print(robot.fkine(sol2.q))\n",
    "   \n",
    "else:\n",
    "    print(\"solution not available\")"
   ]
  },
  {
   "cell_type": "markdown",
   "metadata": {},
   "source": [
    "## Trayectories by hand"
   ]
  },
  {
   "cell_type": "code",
   "execution_count": 8,
   "metadata": {},
   "outputs": [
    {
     "data": {
      "text/plain": [
       "Text(0.5, 1.0, 'movimiento deseado en el plano xy del gripper')"
      ]
     },
     "execution_count": 8,
     "metadata": {},
     "output_type": "execute_result"
    },
    {
     "data": {
      "image/png": "[encoded data removed]",
      "text/plain": [
       "<Figure size 432x288 with 1 Axes>"
      ]
     },
     "metadata": {},
     "output_type": "display_data"
    }
   ],
   "source": [
    "# perfil velocidades del gripper (la de z debe ser zero porque es un robot planar)\n",
    "pp_d=np.array([-0.1,-0.12,0]) #la velocidad en x,y,z del gripper\n",
    "#integramos para obtener las posiciones deseadas \n",
    "n=30 # numero de pasos\n",
    "Ts=0.1 # periodo de muestreo\n",
    "tiempo=np.linspace(0,n*Ts,n) # vector de tiempo\n",
    "\n",
    "\n",
    "#Cambiar esta trayectoria por su inicial\n",
    "p_d=np.zeros((n,len(pp_d))) # posición deseada\n",
    "p_d[0,:]=np.array([0.5,0.1,0.05]) # posición inicial\n",
    "for i in range(1,n):\n",
    "    p_d[i,:]=p_d[i-1,:]+Ts*pp_d\n",
    "    \n",
    "\n",
    "plt.plot(p_d[:,0],p_d[:,1])\n",
    "plt.xlim([-0.68,0.68])\n",
    "plt.ylim([-0.68,0.68])\n",
    "plt.title('movimiento deseado en el plano xy del gripper')\n",
    "#p_d"
   ]
  },
  {
   "cell_type": "code",
   "execution_count": 9,
   "metadata": {},
   "outputs": [
    {
     "data": {
      "text/plain": [
       "Text(0.5, 1.0, 'angulo deseado del gripper con respecto al tiempo')"
      ]
     },
     "execution_count": 9,
     "metadata": {},
     "output_type": "execute_result"
    },
    {
     "data": {
      "image/png": "[encoded data removed]",
      "text/plain": [
       "<Figure size 432x288 with 1 Axes>"
      ]
     },
     "metadata": {},
     "output_type": "display_data"
    }
   ],
   "source": [
    "#perfil de orientación del gripper\n",
    "thetap_d=np.array([0.2]) #velocidad angular del gripper rad/s\n",
    "#integramos para obtener las posiciones deseadaas \n",
    "theta_d=np.zeros((n,len(thetap_d)))\n",
    "theta_d[0,:]=np.array([0])  #el angulo inicial es 0\n",
    "for i in range(1,n):\n",
    "    theta_d[i,:]=theta_d[i-1,:]+Ts*thetap_d\n",
    "    \n",
    "#dibujamos\n",
    "plt.plot(tiempo,theta_d[:,0]*180/pi)\n",
    "plt.xlim([0,n*Ts])\n",
    "plt.ylim([0,60])\n",
    "plt.title('angulo deseado del gripper con respecto al tiempo')"
   ]
  },
  {
   "cell_type": "code",
   "execution_count": 12,
   "metadata": {},
   "outputs": [],
   "source": [
    "#planear la posición de los motores\n",
    "q_m=np.zeros((n,len(robot.q))) # posicion del motor en cada instanate de tiempo\n",
    "qp_m=np.zeros((n,len(robot.q))) # velocidad del motor en cada instante de tiempo\n",
    "for i in range(0,n): # recorremos los n puntos que queremos que pase el gripper\n",
    "    # transformar a SE3(una rotacion en z + una translación)\n",
    "    T=SE3.Rz(theta_d[i,0],unit='rad')\n",
    "    T=SE3(x=p_d[i,0],y=p_d[i,1],z=p_d[i,2])*T   \n",
    "    \n",
    "    #try to add initial guess to increase performance\n",
    "    sol2=robot.ikine_LM(T,rlimit=1000)\n",
    "    \n",
    "    #TODO: what to do if no solution?\n",
    "    if sol2.success:\n",
    "        q_m[i,:]=sol2.q\n",
    "        rank=np.linalg.matrix_rank(robot.jacob0(sol2.q))\n",
    "        #TODO: if the rank is not three there exist a singular position\n",
    "        if rank==3:\n",
    "            qp_m[i,:]=np.matmul(np.linalg.pinv(robot.jacob0(sol2.q)[[0,1,-1],:]),pp_d)\n",
    "    else:\n",
    "            print(sol2)"
   ]
  },
  {
   "cell_type": "code",
   "execution_count": 13,
   "metadata": {},
   "outputs": [
    {
     "data": {
      "text/plain": [
       "Text(0.5, 1.0, 'velocidad de los motores con respecto al tiempo')"
      ]
     },
     "execution_count": 13,
     "metadata": {},
     "output_type": "execute_result"
    },
    {
     "data": {
      "image/png": "[encoded data removed]",
      "text/plain": [
       "<Figure size 432x288 with 1 Axes>"
      ]
     },
     "metadata": {},
     "output_type": "display_data"
    },
    {
     "data": {
      "image/png": "[encoded data removed]",
      "text/plain": [
       "<Figure size 432x288 with 1 Axes>"
      ]
     },
     "metadata": {},
     "output_type": "display_data"
    }
   ],
   "source": [
    "plt.plot(tiempo,q_m*180/pi)\n",
    "plt.xlim([0,n*Ts])\n",
    "plt.ylim([-180,180])\n",
    "plt.legend(['q_0','q_1','q_2'])\n",
    "plt.title('angulo de los motores con respecto al tiempo')\n",
    "plt.figure()\n",
    "plt.plot(tiempo,qp_m*180/pi)\n",
    "plt.xlim([0,n*Ts])\n",
    "#plt.ylim([-180,180])\n",
    "plt.ylabel('deg/s')\n",
    "plt.xlabel('t(s)')\n",
    "plt.legend(['q_0','q_1','q_2'])\n",
    "plt.title('velocidad de los motores con respecto al tiempo')"
   ]
  },
  {
   "cell_type": "code",
   "execution_count": 14,
   "metadata": {},
   "outputs": [],
   "source": [
    "from roboticstoolbox.backends.swift import Swift\n",
    "env =  Swift()\n",
    "env.launch(realtime=True)\n",
    "env.add(robot)\n",
    "for i in range(0,10*n):\n",
    "        robot.q=q_m[i%n,:]\n",
    "        env.step(Ts)\n",
    "\n",
    "#env.remove(robot)\n",
    "#env.close()"
   ]
  },
  {
   "cell_type": "markdown",
   "metadata": {},
   "source": [
    "## Trajectories with toolbox\n",
    "\n",
    "### trayectorias directas\n",
    "\n"
   ]
  },
  {
   "cell_type": "code",
   "execution_count": 27,
   "metadata": {},
   "outputs": [
    {
     "data": {
      "image/png": "[encoded data removed]",
      "text/plain": [
       "<Figure size 432x288 with 3 Axes>"
      ]
     },
     "metadata": {},
     "output_type": "display_data"
    }
   ],
   "source": [
    "#trayectorias directas\n",
    "n=30 # numero de pasos\n",
    "Ts=0.1 # periodo de muestreo\n",
    "tiempo=np.linspace(0,n*Ts,n) # vector de tiempo\n",
    "traj = rtb.jtraj(robot.qz, robot.qr, tiempo,qd0=np.array([0.5,0,0]),qd1=np.array([0.5,0.5,0.5]))\n",
    "traj.plot()"
   ]
  },
  {
   "cell_type": "code",
   "execution_count": 23,
   "metadata": {},
   "outputs": [
    {
     "data": {
      "text/plain": [
       "Swift backend, t = 4.99999999999999, scene:\n",
       "  planar_3dof"
      ]
     },
     "execution_count": 23,
     "metadata": {},
     "output_type": "execute_result"
    }
   ],
   "source": [
    "robot.plot(traj.s,block=False)"
   ]
  },
  {
   "cell_type": "markdown",
   "metadata": {},
   "source": [
    "### Trayectoria en coordenadas cartesianas\n"
   ]
  },
  {
   "cell_type": "code",
   "execution_count": 25,
   "metadata": {},
   "outputs": [
    {
     "data": {
      "text/plain": [
       "0:\n",
       "   1         0         0         0.5       \n",
       "   0         1         0         0.1       \n",
       "   0         0         1         0.05      \n",
       "   0         0         0         1         \n",
       "1:\n",
       "   1        -0.003615  0         0.4982    \n",
       "   0.003615  1         0         0.09783   \n",
       "   0         0         1         0.05      \n",
       "   0         0         0         1         \n",
       "2:\n",
       "   0.9999   -0.01446   0         0.4928    \n",
       "   0.01446   0.9999    0         0.09132   \n",
       "   0         0         1         0.05      \n",
       "   0         0         0         1         \n",
       "3:\n",
       "   0.9995   -0.03253   0         0.4837    \n",
       "   0.03253   0.9995    0         0.08048   \n",
       "   0         0         1         0.05      \n",
       "   0         0         0         1         \n",
       "4:\n",
       "   0.9983   -0.05781   0         0.4711    \n",
       "   0.05781   0.9983    0         0.0653    \n",
       "   0         0         1         0.05      \n",
       "   0         0         0         1         \n",
       "5:\n",
       "   0.9959   -0.09025   0         0.4548    \n",
       "   0.09025   0.9959    0         0.04578   \n",
       "   0         0         1         0.05      \n",
       "   0         0         0         1         \n",
       "6:\n",
       "   0.9915   -0.1298    0         0.4349    \n",
       "   0.1298    0.9915    0         0.02192   \n",
       "   0         0         1         0.05      \n",
       "   0         0         0         1         \n",
       "7:\n",
       "   0.9846   -0.1746    0         0.4122    \n",
       "   0.1746    0.9846    0        -0.005316  \n",
       "   0         0         1         0.05      \n",
       "   0         0         0         1         \n",
       "8:\n",
       "   0.9756   -0.2195    0         0.3893    \n",
       "   0.2195    0.9756    0        -0.03279   \n",
       "   0         0         1         0.05      \n",
       "   0         0         0         1         \n",
       "9:\n",
       "   0.9645   -0.2639    0         0.3664    \n",
       "   0.2639    0.9645    0        -0.06026   \n",
       "   0         0         1         0.05      \n",
       "   0         0         0         1         \n",
       "10:\n",
       "   0.9514   -0.3078    0         0.3436    \n",
       "   0.3078    0.9514    0        -0.08774   \n",
       "   0         0         1         0.05      \n",
       "   0         0         0         1         \n",
       "11:\n",
       "   0.9364   -0.351     0         0.3207    \n",
       "   0.351     0.9364    0        -0.1152    \n",
       "   0         0         1         0.05      \n",
       "   0         0         0         1         \n",
       "12:\n",
       "   0.9193   -0.3935    0         0.2978    \n",
       "   0.3935    0.9193    0        -0.1427    \n",
       "   0         0         1         0.05      \n",
       "   0         0         0         1         \n",
       "13:\n",
       "   0.9005   -0.4348    0         0.2751    \n",
       "   0.4348    0.9005    0        -0.1699    \n",
       "   0         0         1         0.05      \n",
       "   0         0         0         1         \n",
       "14:\n",
       "   0.8825   -0.4703    0         0.2552    \n",
       "   0.4703    0.8825    0        -0.1938    \n",
       "   0         0         1         0.05      \n",
       "   0         0         0         1         \n",
       "15:\n",
       "   0.8667   -0.4988    0         0.2389    \n",
       "   0.4988    0.8667    0        -0.2133    \n",
       "   0         0         1         0.05      \n",
       "   0         0         0         1         \n",
       "16:\n",
       "   0.8538   -0.5205    0         0.2263    \n",
       "   0.5205    0.8538    0        -0.2285    \n",
       "   0         0         1         0.05      \n",
       "   0         0         0         1         \n",
       "17:\n",
       "   0.8443   -0.5359    0         0.2172    \n",
       "   0.5359    0.8443    0        -0.2393    \n",
       "   0         0         1         0.05      \n",
       "   0         0         0         1         \n",
       "18:\n",
       "   0.8384   -0.545     0         0.2118    \n",
       "   0.545     0.8384    0        -0.2458    \n",
       "   0         0         1         0.05      \n",
       "   0         0         0         1         \n",
       "19:\n",
       "   0.8365   -0.548     0         0.21      \n",
       "   0.548     0.8365    0        -0.248     \n",
       "   0         0         1         0.05      \n",
       "   0         0         0         1         \n"
      ]
     },
     "execution_count": 25,
     "metadata": {},
     "output_type": "execute_result"
    }
   ],
   "source": [
    "T_i=SE3(x=p_d[0,0],y=p_d[0,1],z=p_d[0,2])*SE3.Rz(theta_d[0,0],unit='rad')\n",
    "\n",
    "T_f=SE3(x=p_d[-1,0],y=p_d[-1,1],z=p_d[-1,2])*SE3.Rz(theta_d[-1,0],unit='rad')\n",
    "Traj=rtb.tools.trajectory.ctraj(T_i, T_f, 20)\n",
    "Traj"
   ]
  },
  {
   "cell_type": "code",
   "execution_count": 26,
   "metadata": {},
   "outputs": [
    {
     "name": "stdout",
     "output_type": "stream",
     "text": [
      "t = 0.5, 0.1, 0.05; rpy/zyx = 0°, 0°, 0°\n",
      " 1.0000 <<  0.0000,  0.0000,  0.0000 >>\n",
      "t = 0.498, 0.0978, 0.05; rpy/zyx = 0°, 0°, 0.207°\n",
      " 1.0000 <<  0.0000,  0.0000,  0.0018 >>\n",
      "t = 0.493, 0.0913, 0.05; rpy/zyx = 0°, 0°, 0.828°\n",
      " 1.0000 <<  0.0000,  0.0000,  0.0072 >>\n",
      "t = 0.484, 0.0805, 0.05; rpy/zyx = 0°, 0°, 1.86°\n",
      " 0.9999 <<  0.0000,  0.0000,  0.0163 >>\n",
      "t = 0.471, 0.0653, 0.05; rpy/zyx = 0°, 0°, 3.31°\n",
      " 0.9996 <<  0.0000,  0.0000,  0.0289 >>\n",
      "t = 0.455, 0.0458, 0.05; rpy/zyx = 0°, 0°, 5.18°\n",
      " 0.9990 <<  0.0000,  0.0000,  0.0452 >>\n",
      "t = 0.435, 0.0219, 0.05; rpy/zyx = 0°, 0°, 7.46°\n",
      " 0.9979 <<  0.0000,  0.0000,  0.0650 >>\n",
      "t = 0.412, -0.00532, 0.05; rpy/zyx = 0°, 0°, 10.1°\n",
      " 0.9962 <<  0.0000,  0.0000,  0.0877 >>\n",
      "t = 0.389, -0.0328, 0.05; rpy/zyx = 0°, 0°, 12.7°\n",
      " 0.9939 <<  0.0000,  0.0000,  0.1104 >>\n",
      "t = 0.366, -0.0603, 0.05; rpy/zyx = 0°, 0°, 15.3°\n",
      " 0.9911 <<  0.0000,  0.0000,  0.1332 >>\n",
      "t = 0.344, -0.0877, 0.05; rpy/zyx = 0°, 0°, 17.9°\n",
      " 0.9878 <<  0.0000,  0.0000,  0.1558 >>\n",
      "t = 0.321, -0.115, 0.05; rpy/zyx = 0°, 0°, 20.6°\n",
      " 0.9840 <<  0.0000,  0.0000,  0.1784 >>\n",
      "t = 0.298, -0.143, 0.05; rpy/zyx = 0°, 0°, 23.2°\n",
      " 0.9796 <<  0.0000,  0.0000,  0.2009 >>\n",
      "t = 0.275, -0.17, 0.05; rpy/zyx = 0°, 0°, 25.8°\n",
      " 0.9748 <<  0.0000,  0.0000,  0.2230 >>\n",
      "t = 0.255, -0.194, 0.05; rpy/zyx = 0°, 0°, 28.1°\n",
      " 0.9702 <<  0.0000,  0.0000,  0.2424 >>\n",
      "t = 0.239, -0.213, 0.05; rpy/zyx = 0°, 0°, 29.9°\n",
      " 0.9661 <<  0.0000,  0.0000,  0.2581 >>\n",
      "t = 0.226, -0.228, 0.05; rpy/zyx = 0°, 0°, 31.4°\n",
      " 0.9628 <<  0.0000,  0.0000,  0.2703 >>\n",
      "t = 0.217, -0.239, 0.05; rpy/zyx = 0°, 0°, 32.4°\n",
      " 0.9603 <<  0.0000,  0.0000,  0.2790 >>\n",
      "t = 0.212, -0.246, 0.05; rpy/zyx = 0°, 0°, 33°\n",
      " 0.9588 <<  0.0000,  0.0000,  0.2842 >>\n",
      "t = 0.21, -0.248, 0.05; rpy/zyx = 0°, 0°, 33.2°\n",
      " 0.9582 <<  0.0000,  0.0000,  0.2860 >>\n"
     ]
    }
   ],
   "source": [
    "for t in Traj:\n",
    "    t.printline()\n",
    "    #print(t.eul())\n",
    "    #print(t.angvec())\n",
    "    print(UnitQuaternion(t.R))"
   ]
  }
 ],
 "metadata": {
  "interpreter": {
   "hash": "916dbcbb3f70747c44a77c7bcd40155683ae19c65e1c03b4aa3499c5328201f1"
  },
  "kernelspec": {
   "display_name": "Python 3.8.5 64-bit ('base': conda)",
   "language": "python",
   "name": "python3"
  },
  "language_info": {
   "codemirror_mode": {
    "name": "ipython",
    "version": 3
   },
   "file_extension": ".py",
   "mimetype": "text/x-python",
   "name": "python",
   "nbconvert_exporter": "python",
   "pygments_lexer": "ipython3",
   "version": "3.8.10"
  }
 },
 "nbformat": 4,
 "nbformat_minor": 2
}
